{
  "nbformat": 4,
  "nbformat_minor": 0,
  "metadata": {
    "colab": {
      "provenance": [],
      "authorship_tag": "ABX9TyPYTJQaC352oeIxeQpzV1ad",
      "include_colab_link": true
    },
    "kernelspec": {
      "name": "python3",
      "display_name": "Python 3"
    },
    "language_info": {
      "name": "python"
    }
  },
  "cells": [
    {
      "cell_type": "markdown",
      "metadata": {
        "id": "view-in-github",
        "colab_type": "text"
      },
      "source": [
        "<a href=\"https://colab.research.google.com/github/Bin7amood/Assignment-/blob/main/Untitled13.ipynb\" target=\"_parent\"><img src=\"https://colab.research.google.com/assets/colab-badge.svg\" alt=\"Open In Colab\"/></a>"
      ]
    },
    {
      "cell_type": "code",
      "execution_count": null,
      "metadata": {
        "colab": {
          "base_uri": "https://localhost:8080/"
        },
        "id": "h9pW1Xmy2VE8",
        "outputId": "60e117d7-17cd-4516-8d4f-1143a4728c21"
      },
      "outputs": [
        {
          "output_type": "stream",
          "name": "stdout",
          "text": [
            "Welcome to the Menu-Based Program!\n",
            "Please select an option:\n",
            "1. Print Pattern\n",
            "2. Filter Numbers\n",
            "3. Help\n",
            "4. Exit\n"
          ]
        }
      ],
      "source": [
        "def print_pattern(rows):\n",
        "    for i in range(1, rows + 1):\n",
        "        print('*' * (2 * i - 1))\n",
        "\n",
        "def filter_numbers(numbers_str):\n",
        "    numbers = list(map(int, numbers_str.split()))\n",
        "    filtered_numbers = [num for num in numbers if num < 13 or num > 19]\n",
        "    return filtered_numbers\n",
        "\n",
        "def display_help():\n",
        "    print(\"Welcome to the Menu-Based Program!\")\n",
        "    print(\"Please select an option:\")\n",
        "    print(\"1. Print Pattern\")\n",
        "    print(\"2. Filter Numbers\")\n",
        "    print(\"3. Help\")\n",
        "    print(\"4. Exit\")\n",
        "\n",
        "def main():\n",
        "    while True:\n",
        "        display_help()\n",
        "        choice = input(\"Enter your choice (1-4): \")\n",
        "\n",
        "        if choice == '1':\n",
        "            rows = int(input(\"Enter a positive number for rows in the pattern: \"))\n",
        "            print_pattern(rows)\n",
        "        elif choice == '2':\n",
        "            numbers_str = input(\"Enter a list of whole numbers separated by spaces: \")\n",
        "            filtered_numbers = filter_numbers(numbers_str)\n",
        "            print(\"Filtered list:\", ' '.join(map(str, filtered_numbers)))\n",
        "        elif choice == '3':\n",
        "            print(\"Welcome to the menu program!\")\n",
        "            print(\"You can choose options 1, 2, or 4.\")\n",
        "            print(\"Option 1: Print a pattern of stars.\")\n",
        "            print(\"Option 2: Filter numbers in a list.\")\n",
        "            print(\"Option 4: Exit the program.\")\n",
        "        elif choice == '4':\n",
        "            print(\"Exiting the program. Goodbye!\")\n",
        "            break\n",
        "        else:\n",
        "            print(\"Invalid choice. Please select a number from 1 to 4.\")\n",
        "\n",
        "if __name__ == \"__main__\":\n",
        "    main()"
      ]
    },
    {
      "cell_type": "code",
      "source": [],
      "metadata": {
        "id": "9q0QWmGM3GtB"
      },
      "execution_count": null,
      "outputs": []
    }
  ]
}